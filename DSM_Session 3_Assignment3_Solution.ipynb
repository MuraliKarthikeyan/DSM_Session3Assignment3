{
 "cells": [
  {
   "cell_type": "markdown",
   "metadata": {},
   "source": [
    "# Data Science Masters Session:Assignment3"
   ]
  },
  {
   "cell_type": "code",
   "execution_count": 4,
   "metadata": {},
   "outputs": [
    {
     "name": "stdout",
     "output_type": "stream",
     "text": [
      "- 47 + 11 = 58\n",
      "-- 58  +  42 = 100\n",
      "--- 100  +  13 = 113\n",
      "---- 113  +  7 = 120\n",
      "Computed total using my own myreduce method: 120\n"
     ]
    }
   ],
   "source": [
    "# 1.1 Write a Python Program to implement your own myreduce() function which works exactly\n",
    "# like Python's built-in function reduce()\n",
    "\n",
    "# Solution\n",
    "inputList = [47,11,42,13,7]\n",
    "def myreduce():\n",
    "    if len(inputList) > 2:\n",
    "        placeholder_value = inputList[0]+inputList[1]\n",
    "        print(\"-\",inputList[0],\"+\",inputList[1],\"=\",inputList[0]+inputList[1])\n",
    "        for i in range(2,len(inputList)):\n",
    "            print(\"-\"*i,placeholder_value,\" + \",inputList[i],\"=\",placeholder_value+inputList[i])\n",
    "            placeholder_value = placeholder_value + inputList[i]\n",
    "    elif len(inputList) == 2:\n",
    "         placeholder_value = inputList[0] + inputList[1]\n",
    "    else :\n",
    "         placeholder_value = inputList[0]\n",
    "    print(\"Computed total using my own myreduce method:\",placeholder_value)\n",
    "myreduce()"
   ]
  },
  {
   "cell_type": "code",
   "execution_count": 29,
   "metadata": {},
   "outputs": [
    {
     "name": "stdout",
     "output_type": "stream",
     "text": [
      "Filtered Result List: [20, 40, 5, 15, 30, 10]\n"
     ]
    }
   ],
   "source": [
    "# 1.2 Write a Python program to implement your own myfilter() function which works exactly like\n",
    "# Python's built-in function filter()\n",
    "\n",
    "# Solution\n",
    "def myfilter(number):   # function to return True if a number is divisble by 5\n",
    "    if number % 5 == 0:\n",
    "        return True\n",
    "inputList = [20,12,40,5,15,30,98,18,32,10]\n",
    "outputList = []\n",
    "for num in inputList:\n",
    "    if(myfilter(num)):\n",
    "        outputList.append(num)\n",
    "print(\"Filtered Result List:\",outputList)"
   ]
  },
  {
   "cell_type": "code",
   "execution_count": null,
   "metadata": {},
   "outputs": [],
   "source": [
    "# 2. Implement List comprehensions to produce the following lists."
   ]
  },
  {
   "cell_type": "code",
   "execution_count": 130,
   "metadata": {},
   "outputs": [
    {
     "name": "stdout",
     "output_type": "stream",
     "text": [
      "Generated Output: ['A', 'C', 'A', 'D', 'G', 'I', 'L', 'D']\n"
     ]
    }
   ],
   "source": [
    "# Sample Output\n",
    "# ['A', 'C', 'A', 'D', 'G', 'I', ’L’, ‘ D’]\n",
    "\n",
    "# Solution\n",
    "print(\"Generated Output:\",[x for x in \"ACADGILD\"])"
   ]
  },
  {
   "cell_type": "code",
   "execution_count": 128,
   "metadata": {},
   "outputs": [
    {
     "name": "stdout",
     "output_type": "stream",
     "text": [
      "Generated Output: ['x', 'xx', 'xxx', 'xxxx', 'y', 'yy', 'yyy', 'yyyy', 'z', 'zz', 'zzz', 'zzzz']\n"
     ]
    }
   ],
   "source": [
    "# Sample Output\n",
    "# ['x', 'xx', 'xxx', 'xxxx', 'y', 'yy', 'yyy', 'yyyy', 'z', 'zz', 'zzz', 'zzzz']\n",
    "\n",
    "# Solution\n",
    "print(\"Generated Output:\",[x*i for x in ['x','y','z'] for i in range(1,5)])"
   ]
  },
  {
   "cell_type": "code",
   "execution_count": 242,
   "metadata": {},
   "outputs": [
    {
     "name": "stdout",
     "output_type": "stream",
     "text": [
      "Generated Output: ['x', 'y', 'z', 'xx', 'yy', 'zz', 'xxx', 'yyy', 'zzz', 'xxxx', 'yyyy', 'zzzz']\n"
     ]
    }
   ],
   "source": [
    "# Sample Output\n",
    "# ['x', 'y', 'z', 'xx', 'yy', 'zz', 'xxx', 'yyy', 'zzz', 'xxxx', 'yyyy', 'zzzz']\n",
    "\n",
    "# Solution\n",
    "print(\"Generated Output:\",[x*i for i in range(1,5) for x in ['x','y','z']])"
   ]
  },
  {
   "cell_type": "code",
   "execution_count": 40,
   "metadata": {},
   "outputs": [
    {
     "name": "stdout",
     "output_type": "stream",
     "text": [
      "Generated Output: [[2], [3], [4], [3], [4], [5], [4], [5], [6]]\n"
     ]
    }
   ],
   "source": [
    "# Sample Output\n",
    "# [[2], [3], [4], [3], [4], [5], [4], [5], [6]]\n",
    "\n",
    "# Solution\n",
    "print(\"Generated Output:\",[[row[i]] for row in [[2,3,4],[3,4,5],[4,5,6]] for i in range(3)])"
   ]
  },
  {
   "cell_type": "code",
   "execution_count": 34,
   "metadata": {},
   "outputs": [
    {
     "name": "stdout",
     "output_type": "stream",
     "text": [
      "Generated Output: [[2, 3, 4, 5], [3, 4, 5, 6], [4, 5, 6, 7], [5, 6, 7, 8]]\n"
     ]
    }
   ],
   "source": [
    "# Sample Output\n",
    "# [[2, 3, 4, 5], [3, 4, 5, 6], [4, 5, 6, 7], [5, 6, 7, 8]]\n",
    "\n",
    "# Solution\n",
    "print(\"Generated Output:\",\n",
    "      [[a,b,c,d] for a in [2,3,4,5] for b in [3,4,5,6] for c in [4,5,6,7] \n",
    "           for d in [5,6,7,8] if b==a+1 and c==a+2 and d==a+3])"
   ]
  },
  {
   "cell_type": "code",
   "execution_count": 37,
   "metadata": {},
   "outputs": [
    {
     "name": "stdout",
     "output_type": "stream",
     "text": [
      "Generated Output: [(1, 1), (2, 1), (3, 1), (1, 2), (2, 2), (3, 2), (1, 3), (2, 3), (3, 3)]\n"
     ]
    }
   ],
   "source": [
    "# Sample Output \n",
    "# [(1, 1), (2, 1), (3, 1), (1, 2), (2, 2), (3, 2), (1, 3), (2, 3), (3, 3)]\n",
    "\n",
    "# Solution\n",
    "print(\"Generated Output:\",[(y, x) for x in [1,2,3] for y in [1,2,3] if x>y or x<y or x==y])"
   ]
  },
  {
   "cell_type": "code",
   "execution_count": 245,
   "metadata": {},
   "outputs": [
    {
     "name": "stdout",
     "output_type": "stream",
     "text": [
      "Longest Word in the given list: Data Science\n"
     ]
    }
   ],
   "source": [
    "# 3. Implement a function longestWord() that takes a list of words and returns the longest one.\n",
    "\n",
    "# Solution\n",
    "def longestWord():\n",
    "    strList = ['Murali','is','a','Data Science','Student']\n",
    "    maxWord = strList[0]\n",
    "    for i in strList:\n",
    "        if(len(i)>len(maxWord)):\n",
    "            maxWord = i\n",
    "    return maxWord\n",
    "print(\"Longest Word in the given list:\",longestWord())"
   ]
  }
 ],
 "metadata": {
  "kernelspec": {
   "display_name": "Python 3",
   "language": "python",
   "name": "python3"
  },
  "language_info": {
   "codemirror_mode": {
    "name": "ipython",
    "version": 3
   },
   "file_extension": ".py",
   "mimetype": "text/x-python",
   "name": "python",
   "nbconvert_exporter": "python",
   "pygments_lexer": "ipython3",
   "version": "3.6.5"
  }
 },
 "nbformat": 4,
 "nbformat_minor": 2
}
